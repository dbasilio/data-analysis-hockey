{
 "cells": [
  {
   "cell_type": "markdown",
   "metadata": {},
   "source": [
    "# Secondary Assists\n",
    "Our goal with this analysis is to determine if it makes sense to spend money on a player who earns a lot of secondary assists in hockey. Hockey tracks two levels of assists. If Player A passes to Player B who then passes to Player C, who then scores a goal, points are awards as follows:\n",
    "\n",
    "- Player C - 1 point for the goal\n",
    "- Player B - 1 point for the primary assist\n",
    "- Player A - 1 point for the secondary assist\n",
    "\n",
    "Hockey is one of the only sports to track assists beyond the primary assist, but since we have this data, let's determine if players who are good at it are worth anything."
   ]
  },
  {
   "cell_type": "code",
   "execution_count": 1,
   "metadata": {},
   "outputs": [],
   "source": [
    "import pandas as pd\n",
    "import matplotlib.pyplot as plt\n",
    "import statsmodels.api as sm\n",
    "import numpy as np\n",
    "%matplotlib inline\n",
    "%run ./data-loading.ipynb\n",
    "\n",
    "import warnings\n",
    "warnings.filterwarnings('ignore')"
   ]
  },
  {
   "cell_type": "code",
   "execution_count": 2,
   "metadata": {},
   "outputs": [
    {
     "data": {
      "text/html": [
       "<div>\n",
       "<style scoped>\n",
       "    .dataframe tbody tr th:only-of-type {\n",
       "        vertical-align: middle;\n",
       "    }\n",
       "\n",
       "    .dataframe tbody tr th {\n",
       "        vertical-align: top;\n",
       "    }\n",
       "\n",
       "    .dataframe thead th {\n",
       "        text-align: right;\n",
       "    }\n",
       "</style>\n",
       "<table border=\"1\" class=\"dataframe\">\n",
       "  <thead>\n",
       "    <tr style=\"text-align: right;\">\n",
       "      <th></th>\n",
       "      <th></th>\n",
       "      <th>Team</th>\n",
       "      <th>Position</th>\n",
       "      <th>GP</th>\n",
       "      <th>TOI</th>\n",
       "      <th>Goals</th>\n",
       "      <th>Total Assists</th>\n",
       "      <th>First Assists</th>\n",
       "      <th>Second Assists</th>\n",
       "      <th>Total Points</th>\n",
       "      <th>Shots</th>\n",
       "      <th>SH%</th>\n",
       "      <th>Shot Attempts</th>\n",
       "      <th>Hits</th>\n",
       "      <th>Hits Taken</th>\n",
       "    </tr>\n",
       "    <tr>\n",
       "      <th>Year</th>\n",
       "      <th>Player</th>\n",
       "      <th></th>\n",
       "      <th></th>\n",
       "      <th></th>\n",
       "      <th></th>\n",
       "      <th></th>\n",
       "      <th></th>\n",
       "      <th></th>\n",
       "      <th></th>\n",
       "      <th></th>\n",
       "      <th></th>\n",
       "      <th></th>\n",
       "      <th></th>\n",
       "      <th></th>\n",
       "      <th></th>\n",
       "    </tr>\n",
       "  </thead>\n",
       "  <tbody>\n",
       "    <tr>\n",
       "      <th rowspan=\"5\" valign=\"top\">2015</th>\n",
       "      <th>Jamie Benn</th>\n",
       "      <td>DAL</td>\n",
       "      <td>F</td>\n",
       "      <td>82</td>\n",
       "      <td>1635.733333</td>\n",
       "      <td>35</td>\n",
       "      <td>52</td>\n",
       "      <td>32</td>\n",
       "      <td>20</td>\n",
       "      <td>87</td>\n",
       "      <td>253</td>\n",
       "      <td>13.83</td>\n",
       "      <td>466</td>\n",
       "      <td>120</td>\n",
       "      <td>101</td>\n",
       "    </tr>\n",
       "    <tr>\n",
       "      <th>John Tavares</th>\n",
       "      <td>NYI</td>\n",
       "      <td>F</td>\n",
       "      <td>82</td>\n",
       "      <td>1695.200000</td>\n",
       "      <td>38</td>\n",
       "      <td>48</td>\n",
       "      <td>30</td>\n",
       "      <td>18</td>\n",
       "      <td>86</td>\n",
       "      <td>278</td>\n",
       "      <td>13.67</td>\n",
       "      <td>471</td>\n",
       "      <td>48</td>\n",
       "      <td>103</td>\n",
       "    </tr>\n",
       "    <tr>\n",
       "      <th>Sidney Crosby</th>\n",
       "      <td>PIT</td>\n",
       "      <td>F</td>\n",
       "      <td>77</td>\n",
       "      <td>1538.533333</td>\n",
       "      <td>28</td>\n",
       "      <td>56</td>\n",
       "      <td>31</td>\n",
       "      <td>25</td>\n",
       "      <td>84</td>\n",
       "      <td>237</td>\n",
       "      <td>11.81</td>\n",
       "      <td>380</td>\n",
       "      <td>66</td>\n",
       "      <td>117</td>\n",
       "    </tr>\n",
       "    <tr>\n",
       "      <th>Alex Ovechkin</th>\n",
       "      <td>WSH</td>\n",
       "      <td>F</td>\n",
       "      <td>81</td>\n",
       "      <td>1646.400000</td>\n",
       "      <td>53</td>\n",
       "      <td>28</td>\n",
       "      <td>21</td>\n",
       "      <td>7</td>\n",
       "      <td>81</td>\n",
       "      <td>395</td>\n",
       "      <td>13.42</td>\n",
       "      <td>825</td>\n",
       "      <td>259</td>\n",
       "      <td>108</td>\n",
       "    </tr>\n",
       "    <tr>\n",
       "      <th>Jakub Voracek</th>\n",
       "      <td>PHI</td>\n",
       "      <td>F</td>\n",
       "      <td>82</td>\n",
       "      <td>1524.633333</td>\n",
       "      <td>22</td>\n",
       "      <td>59</td>\n",
       "      <td>31</td>\n",
       "      <td>28</td>\n",
       "      <td>81</td>\n",
       "      <td>221</td>\n",
       "      <td>9.95</td>\n",
       "      <td>424</td>\n",
       "      <td>55</td>\n",
       "      <td>139</td>\n",
       "    </tr>\n",
       "  </tbody>\n",
       "</table>\n",
       "</div>"
      ],
      "text/plain": [
       "                   Team Position  GP          TOI  Goals  Total Assists  \\\n",
       "Year Player                                                               \n",
       "2015 Jamie Benn     DAL        F  82  1635.733333     35             52   \n",
       "     John Tavares   NYI        F  82  1695.200000     38             48   \n",
       "     Sidney Crosby  PIT        F  77  1538.533333     28             56   \n",
       "     Alex Ovechkin  WSH        F  81  1646.400000     53             28   \n",
       "     Jakub Voracek  PHI        F  82  1524.633333     22             59   \n",
       "\n",
       "                    First Assists  Second Assists  Total Points  Shots    SH%  \\\n",
       "Year Player                                                                     \n",
       "2015 Jamie Benn                32              20            87    253  13.83   \n",
       "     John Tavares              30              18            86    278  13.67   \n",
       "     Sidney Crosby             31              25            84    237  11.81   \n",
       "     Alex Ovechkin             21               7            81    395  13.42   \n",
       "     Jakub Voracek             31              28            81    221   9.95   \n",
       "\n",
       "                    Shot Attempts  Hits  Hits Taken  \n",
       "Year Player                                          \n",
       "2015 Jamie Benn               466   120         101  \n",
       "     John Tavares             471    48         103  \n",
       "     Sidney Crosby            380    66         117  \n",
       "     Alex Ovechkin            825   259         108  \n",
       "     Jakub Voracek            424    55         139  "
      ]
     },
     "execution_count": 2,
     "metadata": {},
     "output_type": "execute_result"
    }
   ],
   "source": [
    "# Fetch the common set of player data everyone on the team is working with\n",
    "player_data = fetch_player_data()\n",
    "years = [2015, 2016, 2017, 2018, 2019]\n",
    "player_data.head()"
   ]
  },
  {
   "cell_type": "markdown",
   "metadata": {},
   "source": [
    "### Examining Line of Best Fit \n",
    "To start our analysis, let's look at the line of best fit. There are a lot of players in our analysis, so to make this easier, we're going to limit ourselves to only looking at one player per team (for now). We want players who have proven to be good at this skill, so we'll look at the player from each team who scored the most secondary assists in the first year of data that we have (2015)."
   ]
  },
  {
   "cell_type": "code",
   "execution_count": 3,
   "metadata": {},
   "outputs": [],
   "source": [
    "# We want to find the player with the most secondary assists in the first year of our analysis, 2015\n",
    "def get_top_assisters_from_year_1(player_data, column):\n",
    "    # get the first year of data\n",
    "    first_year_data = player_data[player_data.index.get_level_values(0) == 2015]\n",
    "\n",
    "    # find the top assister per team\n",
    "    top_assisters_per_team = first_year_data.groupby(\"Team\")[column].aggregate(\"max\")\n",
    "    top_assisters = []\n",
    "    for team, assists in top_assisters_per_team.items():\n",
    "        team_players = first_year_data[\"Team\"] == team\n",
    "        secondary_assisters = first_year_data[column] == assists\n",
    "        player = first_year_data[team_players & secondary_assisters].index.get_level_values(1)[0]\n",
    "        top_assisters.append(player)\n",
    "    return top_assisters"
   ]
  },
  {
   "cell_type": "code",
   "execution_count": 4,
   "metadata": {},
   "outputs": [],
   "source": [
    "def get_player_column_values(player_name, column):\n",
    "    players_year_data = player_data[player_data.index.get_level_values(1) == player_name]\n",
    "    # in case player changed teams, group by year and sum for that year\n",
    "    summed_by_year = players_year_data.groupby(level=0)[column].aggregate(\"sum\")\n",
    "    \n",
    "    # some players retired in the data set, so they are just missing years of data\n",
    "    # this was causing problems with pyplot, so iterate through years, if it throws\n",
    "    # a year error on access, it needs to be filled in\n",
    "    for year in years:\n",
    "        try:\n",
    "            summed_by_year[year]\n",
    "        except KeyError:\n",
    "            summed_by_year[year] = 0.0\n",
    "    return summed_by_year"
   ]
  },
  {
   "cell_type": "code",
   "execution_count": 5,
   "metadata": {},
   "outputs": [],
   "source": [
    "def get_line_of_best_fit(player_yearly_data):\n",
    "    X = player_yearly_data.index.get_level_values(0)\n",
    "    Y = player_yearly_data.values\n",
    "    X = sm.add_constant(X)\n",
    "    result = sm.OLS(Y, X).fit()\n",
    "    intercept, slope = result.params\n",
    "    return intercept, slope"
   ]
  },
  {
   "cell_type": "code",
   "execution_count": 6,
   "metadata": {},
   "outputs": [
    {
     "data": {
      "image/png": "[encoded data removed]",
      "text/plain": [
       "<Figure size 432x288 with 1 Axes>"
      ]
     },
     "metadata": {
      "needs_background": "light"
     },
     "output_type": "display_data"
    }
   ],
   "source": [
    "# get the top assister from each team\n",
    "top_assisters = get_top_assisters_from_year_1(player_data, \"Second Assists\")\n",
    "\n",
    "for assister in top_assisters:\n",
    "    # for each assisters, get their secondary assists in every year\n",
    "    player_yearly_data = get_player_column_values(assister, \"Second Assists\")\n",
    "    plt.plot(years, player_yearly_data)\n",
    "plt.xlabel(\"Years\")\n",
    "plt.ylabel(\"Secondary Assists\")\n",
    "plt.title(\"Top Player Per Team From 2015 Secondary Assists Over 5 Years\")\n",
    "plt.xticks(years)\n",
    "plt.show()"
   ]
  },
  {
   "cell_type": "markdown",
   "metadata": {},
   "source": [
    "Overall it's hard to draw any conclusions about this. A good chunk of the players seem to have retired in 2018, and the rest of the noise just looks noisy. I think looking at the raw totals is too noisy. Let's get the line of best fit for each player and see if we can gain any insights through that."
   ]
  },
  {
   "cell_type": "code",
   "execution_count": 7,
   "metadata": {},
   "outputs": [
    {
     "ename": "TypeError",
     "evalue": "can't multiply sequence by non-int of type 'numpy.float64'",
     "output_type": "error",
     "traceback": [
      "\u001b[0;31m---------------------------------------------------------------------------\u001b[0m",
      "\u001b[0;31mTypeError\u001b[0m                                 Traceback (most recent call last)",
      "\u001b[0;32m<ipython-input-7-4537b0f1a2e8>\u001b[0m in \u001b[0;36m<module>\u001b[0;34m\u001b[0m\n\u001b[1;32m      4\u001b[0m     \u001b[0;31m# plot their line of best fit, and get the values we need\u001b[0m\u001b[0;34m\u001b[0m\u001b[0;34m\u001b[0m\u001b[0;34m\u001b[0m\u001b[0m\n\u001b[1;32m      5\u001b[0m     \u001b[0mintercept\u001b[0m\u001b[0;34m,\u001b[0m \u001b[0mslope\u001b[0m \u001b[0;34m=\u001b[0m \u001b[0mget_line_of_best_fit\u001b[0m\u001b[0;34m(\u001b[0m\u001b[0mplayer_yearly_data\u001b[0m\u001b[0;34m)\u001b[0m\u001b[0;34m\u001b[0m\u001b[0;34m\u001b[0m\u001b[0m\n\u001b[0;32m----> 6\u001b[0;31m     \u001b[0mplt\u001b[0m\u001b[0;34m.\u001b[0m\u001b[0mplot\u001b[0m\u001b[0;34m(\u001b[0m\u001b[0myears\u001b[0m\u001b[0;34m,\u001b[0m \u001b[0mintercept\u001b[0m \u001b[0;34m+\u001b[0m \u001b[0mslope\u001b[0m\u001b[0;34m*\u001b[0m\u001b[0myears\u001b[0m\u001b[0;34m,\u001b[0m \u001b[0mlabel\u001b[0m\u001b[0;34m=\u001b[0m\u001b[0;34mf\"{assister}\"\u001b[0m\u001b[0;34m)\u001b[0m\u001b[0;34m\u001b[0m\u001b[0;34m\u001b[0m\u001b[0m\n\u001b[0m\u001b[1;32m      7\u001b[0m \u001b[0mplt\u001b[0m\u001b[0;34m.\u001b[0m\u001b[0mylim\u001b[0m\u001b[0;34m(\u001b[0m\u001b[0mbottom\u001b[0m\u001b[0;34m=\u001b[0m\u001b[0;36m0\u001b[0m\u001b[0;34m)\u001b[0m\u001b[0;34m\u001b[0m\u001b[0;34m\u001b[0m\u001b[0m\n\u001b[1;32m      8\u001b[0m \u001b[0mplt\u001b[0m\u001b[0;34m.\u001b[0m\u001b[0mxticks\u001b[0m\u001b[0;34m(\u001b[0m\u001b[0myears\u001b[0m\u001b[0;34m)\u001b[0m\u001b[0;34m\u001b[0m\u001b[0;34m\u001b[0m\u001b[0m\n",
      "\u001b[0;31mTypeError\u001b[0m: can't multiply sequence by non-int of type 'numpy.float64'"
     ]
    }
   ],
   "source": [
    "for assister in top_assisters:\n",
    "    # for each assisters, get their secondary assists in every year\n",
    "    player_yearly_data = get_player_column_values(assister, \"Second Assists\")\n",
    "    # plot their line of best fit, and get the values we need\n",
    "    intercept, slope = get_line_of_best_fit(player_yearly_data)\n",
    "    plt.plot(years, intercept + slope*years, label=f\"{assister}\")\n",
    "plt.ylim(bottom=0)\n",
    "plt.xticks(years)\n",
    "plt.ylabel(\"Secondary Assists\")\n",
    "plt.xlabel(\"Year\")\n",
    "plt.title(\"Lines of Best Fit for Secondary Assists\")\n",
    "plt.grid()\n",
    "plt.show()"
   ]
  },
  {
   "cell_type": "markdown",
   "metadata": {},
   "source": [
    "#### Conclusion\n",
    "From the above chart we can determine...exactly nothing. Some players got worse over the years, some players got better over the years. Some players look like they retired (the lines dropping off the graph). I think we're approaching this from the wrong angle."
   ]
  },
  {
   "cell_type": "markdown",
   "metadata": {},
   "source": [
    "### Variance in Goal Scoring Rate\n",
    "#### Conversion to Rate Stats\n",
    "There are a few problems with the above study. For one, we're using the raw secondary assists. If a player was injured in one year, their raw totals would see a dip, totally unrelated to their play. As well, if a player falls in to a coach's \"bad book\" for a while, they may be penalized in ice time, or power play time, which would both lead to drops in raw totals. The first thing we're going to do is to change our raw secondary assists into a rate state based on the amount they played.\n",
    "\n",
    "#### Looking at Standard Deviation\n",
    "Once we have switched to rate stats, I think what we want to look at is the variance in those numbers. Assuming that a players skill allows them to get secondary assists, then regardless of everything else (ice time, powerplay, team mates) their rate of scoring secondary assists should be relatively stable. If we graphed the line, it should be fairly flat."
   ]
  },
  {
   "cell_type": "code",
   "execution_count": null,
   "metadata": {},
   "outputs": [],
   "source": [
    "def convert_second_assists_to_rate(row):\n",
    "    toi, second_assists = row\n",
    "    return (second_assists/toi)*60"
   ]
  },
  {
   "cell_type": "code",
   "execution_count": null,
   "metadata": {},
   "outputs": [],
   "source": [
    "def get_standard_deviations_for_assisters(assisters, skip_nan=True):\n",
    "    standard_deviations = []\n",
    "    for assister in assisters:\n",
    "        # for each assisters, get their secondary assists p60 in every year\n",
    "        player_sap60_over_time = get_player_column_values(assister, \"SA P60\")\n",
    "        std_dev = player_sap60_over_time.std()\n",
    "        # guard because some players don't have enough data\n",
    "        if not skip_nan or not np.isnan(std_dev):\n",
    "            standard_deviations.append(std_dev)\n",
    "    return standard_deviations"
   ]
  },
  {
   "cell_type": "code",
   "execution_count": null,
   "metadata": {},
   "outputs": [],
   "source": [
    "# Add a new column to the data, representing Secondary Assists per 60 minutes of game\n",
    "player_data[\"SA P60\"] = player_data[[\"TOI\", \"Second Assists\"]].apply(\n",
    "    convert_second_assists_to_rate,\n",
    "    axis=1,\n",
    ")"
   ]
  },
  {
   "cell_type": "code",
   "execution_count": null,
   "metadata": {},
   "outputs": [],
   "source": [
    "# Get the top assisters again, using our new player data, and let's look at the p60 leaders\n",
    "# instead of raw total leaders\n",
    "top_assisters = get_top_assisters_from_year_1(player_data, \"SA P60\")\n",
    "standard_deviations = get_standard_deviations_for_assisters(top_assisters, skip_nan=False)\n",
    "zipped_list = zip(top_assisters, standard_deviations)\n",
    "for player, std_dev in zipped_list:\n",
    "    print(f\"For Assister:\\t{player}, their standard deviation was:\\t{std_dev}\")"
   ]
  },
  {
   "cell_type": "markdown",
   "metadata": {},
   "source": [
    "All of these standard deviations seem quite low. Looking at one player, Derrick Brassard, his year over year Secondary Assists P60 numbers were:\n",
    "\n",
    "| Year | Secondary Assists Per 60 Minutes |\n",
    "| --- | --- |\n",
    "| 2015 | 1.077896 |\n",
    "| 2016 | 0.545143 |\n",
    "| 2017 | 0.554102 |\n",
    "| 2018 | 0.281973 |\n",
    "| 2019 | 0.401976 |\n",
    "\n",
    "A standard deviation of  of 0.3585 seems like a big number given the values. Assuming he plays 15 minutes per game, over 82 games, that's 1230 minutes, which equates to a difference of about 7.5 secondary assists per year, which is a good chunk of points. It's the difference between Derrick Brassard scoring 50 points one year, and 35 points the next year. That's a huge swing, it's the difference between a player at the bottom your roster, and one closer to the top.\n",
    "\n",
    "For the really weird numbers above:\n",
    "- Johan Franzen retired after the first year of data, meaning the variance function failed on him\n",
    "- Jiri Tlusty was traded mid season in the first year, and then only played a handful of games in his second year before retiring. The small smaples in that first year caused very large numbers, then he retired without points in the second year, causing skewed data."
   ]
  },
  {
   "cell_type": "code",
   "execution_count": null,
   "metadata": {},
   "outputs": [],
   "source": [
    "# Find the average standard deviation across all these players\n",
    "std_dev_avg = np.average(standard_deviations)\n",
    "print(f\"Average Standard Deviation of these top players: {std_dev_avg}\")"
   ]
  },
  {
   "cell_type": "code",
   "execution_count": null,
   "metadata": {},
   "outputs": [],
   "source": [
    "# Let's see what happens if we expand our study to our entire field of players:\n",
    "all_assisters = pd.unique(player_data.index.get_level_values(1))\n",
    "standard_deviations = get_standard_deviations_for_assisters(all_assisters)\n",
    "std_dev_avg = np.average(standard_deviations)\n",
    "print(f\"Average Standard Deviation of all players: {std_dev_avg}\")"
   ]
  },
  {
   "cell_type": "markdown",
   "metadata": {},
   "source": [
    "Interestingly, the standard deviation is lower for all players. I had assumed it would be higher (less good players would see larger swings), but there's a lot of data, so it must average out.\n",
    "\n",
    "Let's see if there's a difference between forwards and defencemen:"
   ]
  },
  {
   "cell_type": "code",
   "execution_count": null,
   "metadata": {},
   "outputs": [],
   "source": [
    "forward_assisters = pd.unique(player_data[player_data[\"Position\"] == \"F\"].index.get_level_values(1))\n",
    "standard_deviations = get_standard_deviations_for_assisters(forward_assisters)\n",
    "std_dev_avg = np.average(standard_deviations)\n",
    "print(f\"Average Standard Deviation of all forwards: {std_dev_avg}\")"
   ]
  },
  {
   "cell_type": "code",
   "execution_count": null,
   "metadata": {},
   "outputs": [],
   "source": [
    "defence_assisters = pd.unique(player_data[player_data[\"Position\"] == \"D\"].index.get_level_values(1))\n",
    "standard_deviations = get_standard_deviations_for_assisters(defence_assisters)\n",
    "std_dev_avg = np.average(standard_deviations)\n",
    "print(f\"Average Standard Deviation of all forwards: {std_dev_avg}\")"
   ]
  },
  {
   "cell_type": "markdown",
   "metadata": {},
   "source": [
    "There is a bit of a difference between forwards and defencemen, but not a tremendous one. It largely mirrors the overall average. Forwards do see more deviation, but not a tremendous amount.\n",
    "\n",
    "#### Conclusion\n",
    "We have some data hinting here that secondary assists are not actually repeatable. The data on someone like Derrick Brassard is really helpful because it shows just how big a swing could be. However, I don't think we've concretely proven this for sure."
   ]
  },
  {
   "cell_type": "markdown",
   "metadata": {
    "scrolled": true
   },
   "source": [
    "### Comparing Year over Year Changes \n",
    "I want to do one final check on secondary assist scoring rates, and it's based on a suspicion I have. If a player has a certain set of skills that make them good at getting secondary assists, their scoring rate should not change all that much year over year. If we plot a players secondary assist rate per 60m in one year, versus their secondary assist rate the following year, we should see a generally positive trend. \n",
    "\n",
    "For example, let's assume a players ability to generate secondary assists is related to their vision and their hand-eye coordination, those are skills that should not be changing much one year to another. I would expect that players that exceed at both of these skills to maintain a high year-over-year scoring rate. Players who are less good at both, or only good at one of those skills would be lower down the graph, and players bad at both skills would maintain a low scoring rate year-over-year.\n",
    "\n",
    "In order to achieve this, we will need to reshape our data. To keep our study constrained for now, we will use the 2015 season as year 1, and the 2016 season as year 2."
   ]
  },
  {
   "cell_type": "code",
   "execution_count": null,
   "metadata": {},
   "outputs": [],
   "source": [
    "def get_player_secondary_assists_reshaped(name, group):\n",
    "    secondary_assists_rate = group['SA P60']\n",
    "    position = group['Position'][0]\n",
    "    # we want/need data for both of the years\n",
    "    if len(secondary_assists_rate) != 2:\n",
    "        return\n",
    "    return [\n",
    "        name,\n",
    "        position,\n",
    "        secondary_assists_rate[0],\n",
    "        secondary_assists_rate[1],\n",
    "   ]"
   ]
  },
  {
   "cell_type": "code",
   "execution_count": null,
   "metadata": {},
   "outputs": [],
   "source": [
    "def reshape_data_for_years(year1, year2):\n",
    "    valid_year_data = player_data[\n",
    "        (player_data.index.get_level_values(0) == year1) |\n",
    "        (player_data.index.get_level_values(0) == year2)\n",
    "    ]\n",
    "    year_over_year_comparison = []\n",
    "    data_grouped_by_player = valid_year_data.groupby(level=\"Player\")\n",
    "    for name, group in data_grouped_by_player:\n",
    "        reshaped_data = get_player_secondary_assists_reshaped(name, group)\n",
    "        if reshaped_data:\n",
    "            year_over_year_comparison.append(reshaped_data)\n",
    "\n",
    "    reshaped_data = pd.DataFrame(year_over_year_comparison, columns=[\n",
    "        \"Player\", \"Position\", \"SAP60_Year1\", \"SAP60_Year2\"\n",
    "    ])\n",
    "    reshaped_data = reshaped_data.set_index(\"Player\")\n",
    "    return reshaped_data"
   ]
  },
  {
   "cell_type": "code",
   "execution_count": null,
   "metadata": {},
   "outputs": [],
   "source": [
    "def plot_scatter(reshaped_data):\n",
    "    plt.scatter(reshaped_data['SAP60_Year1'], reshaped_data['SAP60_Year2'], marker='.')\n",
    "    plt.xlabel(\"Secondary Assists P60 Year 1\")\n",
    "    plt.ylabel(\"Secondary Assists P60 Year 2\")\n",
    "    plt.title(\"Secondary Assists Year Comparison\")\n",
    "    plt.grid()\n",
    "    plt.show()"
   ]
  },
  {
   "cell_type": "code",
   "execution_count": null,
   "metadata": {},
   "outputs": [],
   "source": [
    "reshaped_data_1516 = reshape_data_for_years(2015, 2016)\n",
    "plot_scatter(reshaped_data_1516)"
   ]
  },
  {
   "cell_type": "markdown",
   "metadata": {},
   "source": [
    "Upon looking at this scatter plot, it looks like our assumption was generally true, players who did well one year seem to have done well the following year. Let's find the linear regression."
   ]
  },
  {
   "cell_type": "code",
   "execution_count": null,
   "metadata": {},
   "outputs": [],
   "source": [
    "def get_reshaped_line_of_best_fit(reshaped_data):\n",
    "    X = reshaped_data['SAP60_Year1']\n",
    "    Y = reshaped_data['SAP60_Year2']\n",
    "    X = sm.add_constant(X)\n",
    "    result = sm.OLS(Y, X).fit()\n",
    "    return result"
   ]
  },
  {
   "cell_type": "code",
   "execution_count": null,
   "metadata": {},
   "outputs": [],
   "source": [
    "def plot_scatter_with_lobf(reshaped_data, ols_results):\n",
    "    intercept, slope = ols_results.params\n",
    "    sap60_year1 = reshaped_data['SAP60_Year1']\n",
    "    plt.scatter(reshaped_data['SAP60_Year1'], reshaped_data['SAP60_Year2'], marker='.')\n",
    "    plt.plot(\n",
    "        sap60_year1,\n",
    "        intercept + slope*sap60_year1,\n",
    "        color=\"red\",\n",
    "        label=f\"RSquared = {round(ols_results.rsquared, 4)}\",\n",
    "    )\n",
    "    plt.xlabel(\"Secondary Assists P60 Year 1\")\n",
    "    plt.ylabel(\"Secondary Assists P60 Year 2\")\n",
    "    plt.title(\"Secondary Assists Year Comparison\")\n",
    "    plt.legend()\n",
    "    plt.grid()\n",
    "    plt.show()"
   ]
  },
  {
   "cell_type": "code",
   "execution_count": null,
   "metadata": {},
   "outputs": [],
   "source": [
    "ols_results_1516 = get_reshaped_line_of_best_fit(reshaped_data_1516)\n",
    "plot_scatter_with_lobf(reshaped_data_1516, ols_results_1516)"
   ]
  },
  {
   "cell_type": "markdown",
   "metadata": {},
   "source": [
    "#### Analysis\n",
    "We do indeed have a slightly positive linear regression with an rsquared value of `0.1629`. It is however a very weak relationship. It seems like a bad idea to try to pay the player that was over 0.8 SAP60 only for them to score less than 0.2 SAP60 the following year.\n",
    "\n",
    "Assuming they play a standard amount of minutes (i.e. 15 per game for 82 games = 1230 minutes)\n",
    "\n",
    "| Year | Secondary Assists |\n",
    "| --- | --- |\n",
    "| 1 | 16.4 |\n",
    "| 2 | 4.1 |\n",
    "\n",
    "Either this player lost a 3 quarters of their ability, or the stat is at least partially random noise that we can't rely on. Just to check, let's see what the following years look like."
   ]
  },
  {
   "cell_type": "code",
   "execution_count": null,
   "metadata": {},
   "outputs": [],
   "source": [
    "reshaped_data_1617 = reshape_data_for_years(2016, 2017)\n",
    "ols_results_1617 = get_reshaped_line_of_best_fit(reshaped_data_1617)\n",
    "plot_scatter_with_lobf(reshaped_data_1617, ols_results_1617)"
   ]
  },
  {
   "cell_type": "code",
   "execution_count": null,
   "metadata": {},
   "outputs": [],
   "source": [
    "reshaped_data_1718 = reshape_data_for_years(2017, 2018)\n",
    "ols_results_1718 = get_reshaped_line_of_best_fit(reshaped_data_1718)\n",
    "plot_scatter_with_lobf(reshaped_data_1718, ols_results_1718)"
   ]
  },
  {
   "cell_type": "code",
   "execution_count": null,
   "metadata": {},
   "outputs": [],
   "source": [
    "reshaped_data_1819 = reshape_data_for_years(2018, 2019)\n",
    "ols_results_1819 = get_reshaped_line_of_best_fit(reshaped_data_1819)\n",
    "plot_scatter_with_lobf(reshaped_data_1819, ols_results_1819)"
   ]
  },
  {
   "cell_type": "markdown",
   "metadata": {},
   "source": [
    "The story does not really improve in the following years, with the rsquared value always sitting between 0.16 nd 0.21, all very weak relationships.\n",
    "\n",
    "Just to satisfy my own curiosity, I wonder if there's a difference in position, let's repeat the first year separately for forwards and defencemen."
   ]
  },
  {
   "cell_type": "code",
   "execution_count": null,
   "metadata": {},
   "outputs": [],
   "source": [
    "forwards_only_data = reshaped_data_1516[reshaped_data_1516[\"Position\"] == \"F\"]\n",
    "ols_results_forwards = get_reshaped_line_of_best_fit(forwards_only_data)\n",
    "plot_scatter_with_lobf(forwards_only_data, ols_results_forwards)"
   ]
  },
  {
   "cell_type": "code",
   "execution_count": null,
   "metadata": {},
   "outputs": [],
   "source": [
    "forwards_only_data = reshaped_data_1516[reshaped_data_1516[\"Position\"] == \"D\"]\n",
    "ols_results_forwards = get_reshaped_line_of_best_fit(forwards_only_data)\n",
    "plot_scatter_with_lobf(forwards_only_data, ols_results_forwards)"
   ]
  },
  {
   "cell_type": "markdown",
   "metadata": {},
   "source": [
    "There is a difference in that defencemen have a lower rsquared value, but it's not a tremendous difference. Both of them are very weak correlations, but the defencemen have an even weaker relationship."
   ]
  },
  {
   "cell_type": "markdown",
   "metadata": {},
   "source": [
    "## Conclusion\n",
    "Overall, it seems like not a particularly good idea to pay a player based on their secondary assists, and we should be wary of secondary assist counts in total points. Using the example of Derrick Brassard* above (who had a standard deviation of almost 7.5 assists per year), paying him to be a second line player based on his 50 points output would be foolish given that the next year he could be closer to a bottom of the roster player with 35 points.\n",
    "\n",
    "Based on the very weak relationships that secondary assist rates have to each other, what I suspect is that there is some small amount of skill involved in secondary assists, but that more often than not, it is near random noise. \n",
    "\n",
    "\\* Derrick Brassard is having a bit of career resurgence this year on a new team. His 17 total points only include 4 secondary assists."
   ]
  },
  {
   "cell_type": "markdown",
   "metadata": {},
   "source": [
    "## Do Secondary Assists Lead to More Wins\n"
   ]
  },
  {
   "cell_type": "code",
   "execution_count": null,
   "metadata": {},
   "outputs": [],
   "source": [
    "team_data = fetch_team_data()\n",
    "team_data.head()"
   ]
  },
  {
   "cell_type": "code",
   "execution_count": null,
   "metadata": {},
   "outputs": [],
   "source": [
    "def add_secondary_assists_for_team_and_year(row):\n",
    "    year = row.name[0]\n",
    "    team = row[\"Team Code\"]\n",
    "    year_data = player_data.index.get_level_values(0) == year\n",
    "    team_data = player_data[\"Team\"] == team\n",
    "    summed_second_assists = player_data[year_data & team_data][\"Second Assists\"].aggregate(\"sum\")\n",
    "    return summed_second_assists"
   ]
  },
  {
   "cell_type": "code",
   "execution_count": null,
   "metadata": {},
   "outputs": [],
   "source": [
    "# Add a new column summing the secondary assists per year\n",
    "team_data[\"Second Assists\"] = team_data.apply(add_secondary_assists_for_team_and_year, axis=1)"
   ]
  },
  {
   "cell_type": "code",
   "execution_count": null,
   "metadata": {},
   "outputs": [],
   "source": [
    "team_data.head()"
   ]
  },
  {
   "cell_type": "code",
   "execution_count": null,
   "metadata": {},
   "outputs": [],
   "source": [
    "plt.scatter(team_data['Second Assists'], team_data['Points %'], marker='.')\n",
    "plt.ylabel(\"Team Points %\")\n",
    "plt.xlabel(\"Team Secondary Assists\")\n",
    "plt.title(\"Do Secondary Assists Help Your Team Win?\")\n",
    "plt.grid()\n",
    "plt.show()"
   ]
  },
  {
   "cell_type": "markdown",
   "metadata": {},
   "source": [
    "Upon first glance this looks to be a pretty good positive correlation. If we could find players who consistently got secondary assists, it would lead the team to winning more games. Let's find the line of best fit."
   ]
  },
  {
   "cell_type": "code",
   "execution_count": null,
   "metadata": {},
   "outputs": [],
   "source": [
    "X = team_data['Second Assists']\n",
    "Y = team_data['Points %']\n",
    "X = sm.add_constant(X)\n",
    "result = sm.OLS(Y, X).fit()\n",
    "intercept, slope = result.params\n",
    "rsquared = result.rsquared"
   ]
  },
  {
   "cell_type": "code",
   "execution_count": null,
   "metadata": {},
   "outputs": [],
   "source": [
    "plt.scatter(team_data['Second Assists'], team_data['Points %'], marker='.')\n",
    "plt.plot(\n",
    "    team_data['Second Assists'],\n",
    "    intercept + slope*team_data['Second Assists'],\n",
    "    color=\"red\",\n",
    "    label=f\"RSquared = {round(rsquared, 4)}\",\n",
    ")\n",
    "plt.ylabel(\"Team Points %\")\n",
    "plt.xlabel(\"Team Secondary Assists\")\n",
    "plt.title(\"Do Secondary Assists Help Your Team Win?\")\n",
    "plt.legend()\n",
    "plt.grid()\n",
    "plt.show()"
   ]
  },
  {
   "cell_type": "markdown",
   "metadata": {},
   "source": [
    "With an rsquared value of 0.45, this is a much stronger relation than players being able to repeat their results. It's also possible there is a confounding variable here though. Each secondary assists is, by definition, tied to a goal, which is how team win games, so what we are probably measuring here is that team's that score more goals win more games (a truly deep analysis).\n",
    "\n",
    "## Conclusion\n",
    "To answer the questions posed in the problem statement:\n",
    "\n",
    "#### Will a player who is good at secondary assists continue to be?\n",
    "\n",
    "Probably not. There is a very weak positive correlation in year over year results. Players can see sizable swings in their secondary assists, so if our imaginary player has a high occurence of secondary assists, we should be very hesitant to commit large cap space to that player.\n",
    "\n",
    "#### Will having a player who _is_ good at secondary assists help our team win?\n",
    "\n",
    "Yes they will. Players who can consistently score secondary assists would help our team win by helping to score goals. Can we find this imaginary player? Probably not. "
   ]
  },
  {
   "cell_type": "code",
   "execution_count": null,
   "metadata": {},
   "outputs": [],
   "source": []
  }
 ],
 "metadata": {
  "kernelspec": {
   "display_name": "Python 3",
   "language": "python",
   "name": "python3"
  },
  "language_info": {
   "codemirror_mode": {
    "name": "ipython",
    "version": 3
   },
   "file_extension": ".py",
   "mimetype": "text/x-python",
   "name": "python",
   "nbconvert_exporter": "python",
   "pygments_lexer": "ipython3",
   "version": "3.7.3"
  }
 },
 "nbformat": 4,
 "nbformat_minor": 2
}
