{
 "cells": [
  {
   "cell_type": "markdown",
   "metadata": {},
   "source": [
    "## Secondary Assists\n",
    "Our goal with this analysis is to determine if it makes sense to spend money on a player who earns a lot of secondary assists in hockey. Hockey tracks two levels of assists. If Player A passes to Player B who then passes to Player C, who then scores a goal, points are awards as follows:\n",
    "\n",
    "- Player C - 1 point for the goal\n",
    "- Player B - 1 point for the primary assist\n",
    "- Player A - 1 point for the secondary assist\n",
    "\n",
    "Hockey is one of the only sports to track assists beyond the primary assist, but since we have this data, let's determine if players who are good at it are worth anything."
   ]
  },
  {
   "cell_type": "code",
   "execution_count": 1,
   "metadata": {},
   "outputs": [],
   "source": [
    "import pandas as pd\n",
    "import matplotlib.pyplot as plt\n",
    "import statsmodels.api as sm\n",
    "import numpy as np\n",
    "%matplotlib inline\n",
    "%run ./data-loading.ipynb"
   ]
  },
  {
   "cell_type": "code",
   "execution_count": 2,
   "metadata": {},
   "outputs": [
    {
     "data": {
      "text/html": [
       "<div>\n",
       "<style scoped>\n",
       "    .dataframe tbody tr th:only-of-type {\n",
       "        vertical-align: middle;\n",
       "    }\n",
       "\n",
       "    .dataframe tbody tr th {\n",
       "        vertical-align: top;\n",
       "    }\n",
       "\n",
       "    .dataframe thead th {\n",
       "        text-align: right;\n",
       "    }\n",
       "</style>\n",
       "<table border=\"1\" class=\"dataframe\">\n",
       "  <thead>\n",
       "    <tr style=\"text-align: right;\">\n",
       "      <th></th>\n",
       "      <th></th>\n",
       "      <th>Team</th>\n",
       "      <th>Position</th>\n",
       "      <th>GP</th>\n",
       "      <th>TOI</th>\n",
       "      <th>Goals</th>\n",
       "      <th>Total Assists</th>\n",
       "      <th>First Assists</th>\n",
       "      <th>Second Assists</th>\n",
       "      <th>Total Points</th>\n",
       "      <th>Shots</th>\n",
       "      <th>SH%</th>\n",
       "      <th>Shot Attempts</th>\n",
       "      <th>Hits</th>\n",
       "      <th>Hits Taken</th>\n",
       "    </tr>\n",
       "    <tr>\n",
       "      <th>Year</th>\n",
       "      <th>Player</th>\n",
       "      <th></th>\n",
       "      <th></th>\n",
       "      <th></th>\n",
       "      <th></th>\n",
       "      <th></th>\n",
       "      <th></th>\n",
       "      <th></th>\n",
       "      <th></th>\n",
       "      <th></th>\n",
       "      <th></th>\n",
       "      <th></th>\n",
       "      <th></th>\n",
       "      <th></th>\n",
       "      <th></th>\n",
       "    </tr>\n",
       "  </thead>\n",
       "  <tbody>\n",
       "    <tr>\n",
       "      <th rowspan=\"5\" valign=\"top\">2015</th>\n",
       "      <th>Jamie Benn</th>\n",
       "      <td>DAL</td>\n",
       "      <td>F</td>\n",
       "      <td>82</td>\n",
       "      <td>1635.733333</td>\n",
       "      <td>35</td>\n",
       "      <td>52</td>\n",
       "      <td>32</td>\n",
       "      <td>20</td>\n",
       "      <td>87</td>\n",
       "      <td>253</td>\n",
       "      <td>13.83</td>\n",
       "      <td>466</td>\n",
       "      <td>120</td>\n",
       "      <td>101</td>\n",
       "    </tr>\n",
       "    <tr>\n",
       "      <th>John Tavares</th>\n",
       "      <td>NYI</td>\n",
       "      <td>F</td>\n",
       "      <td>82</td>\n",
       "      <td>1695.200000</td>\n",
       "      <td>38</td>\n",
       "      <td>48</td>\n",
       "      <td>30</td>\n",
       "      <td>18</td>\n",
       "      <td>86</td>\n",
       "      <td>278</td>\n",
       "      <td>13.67</td>\n",
       "      <td>471</td>\n",
       "      <td>48</td>\n",
       "      <td>103</td>\n",
       "    </tr>\n",
       "    <tr>\n",
       "      <th>Sidney Crosby</th>\n",
       "      <td>PIT</td>\n",
       "      <td>F</td>\n",
       "      <td>77</td>\n",
       "      <td>1538.533333</td>\n",
       "      <td>28</td>\n",
       "      <td>56</td>\n",
       "      <td>31</td>\n",
       "      <td>25</td>\n",
       "      <td>84</td>\n",
       "      <td>237</td>\n",
       "      <td>11.81</td>\n",
       "      <td>380</td>\n",
       "      <td>66</td>\n",
       "      <td>117</td>\n",
       "    </tr>\n",
       "    <tr>\n",
       "      <th>Alex Ovechkin</th>\n",
       "      <td>WSH</td>\n",
       "      <td>F</td>\n",
       "      <td>81</td>\n",
       "      <td>1646.400000</td>\n",
       "      <td>53</td>\n",
       "      <td>28</td>\n",
       "      <td>21</td>\n",
       "      <td>7</td>\n",
       "      <td>81</td>\n",
       "      <td>395</td>\n",
       "      <td>13.42</td>\n",
       "      <td>825</td>\n",
       "      <td>259</td>\n",
       "      <td>108</td>\n",
       "    </tr>\n",
       "    <tr>\n",
       "      <th>Jakub Voracek</th>\n",
       "      <td>PHI</td>\n",
       "      <td>F</td>\n",
       "      <td>82</td>\n",
       "      <td>1524.633333</td>\n",
       "      <td>22</td>\n",
       "      <td>59</td>\n",
       "      <td>31</td>\n",
       "      <td>28</td>\n",
       "      <td>81</td>\n",
       "      <td>221</td>\n",
       "      <td>9.95</td>\n",
       "      <td>424</td>\n",
       "      <td>55</td>\n",
       "      <td>139</td>\n",
       "    </tr>\n",
       "  </tbody>\n",
       "</table>\n",
       "</div>"
      ],
      "text/plain": [
       "                   Team Position  GP          TOI  Goals  Total Assists  \\\n",
       "Year Player                                                               \n",
       "2015 Jamie Benn     DAL        F  82  1635.733333     35             52   \n",
       "     John Tavares   NYI        F  82  1695.200000     38             48   \n",
       "     Sidney Crosby  PIT        F  77  1538.533333     28             56   \n",
       "     Alex Ovechkin  WSH        F  81  1646.400000     53             28   \n",
       "     Jakub Voracek  PHI        F  82  1524.633333     22             59   \n",
       "\n",
       "                    First Assists  Second Assists  Total Points  Shots    SH%  \\\n",
       "Year Player                                                                     \n",
       "2015 Jamie Benn                32              20            87    253  13.83   \n",
       "     John Tavares              30              18            86    278  13.67   \n",
       "     Sidney Crosby             31              25            84    237  11.81   \n",
       "     Alex Ovechkin             21               7            81    395  13.42   \n",
       "     Jakub Voracek             31              28            81    221   9.95   \n",
       "\n",
       "                    Shot Attempts  Hits  Hits Taken  \n",
       "Year Player                                          \n",
       "2015 Jamie Benn               466   120         101  \n",
       "     John Tavares             471    48         103  \n",
       "     Sidney Crosby            380    66         117  \n",
       "     Alex Ovechkin            825   259         108  \n",
       "     Jakub Voracek            424    55         139  "
      ]
     },
     "execution_count": 2,
     "metadata": {},
     "output_type": "execute_result"
    }
   ],
   "source": [
    "# Fetch the common set of player data everyone on the team is working with\n",
    "player_data = fetch_player_data()\n",
    "\n",
    "player_data.head()"
   ]
  },
  {
   "cell_type": "markdown",
   "metadata": {},
   "source": [
    "### Examining Line of Best Fit \n",
    "To start our analysis, let's look at the line of best fit. There are a lot of players in our analysis, so to make this easier, we're going to limit ourselves to only looking at one player per team (for now). We want players who have proven to be good at this skill, so we'll look at the player from each team who scored the most secondary assists in the first year of data that we have (2015)."
   ]
  },
  {
   "cell_type": "code",
   "execution_count": 3,
   "metadata": {},
   "outputs": [],
   "source": [
    "# We want to find the player with the most secondary assists in the first year of our analysis, 2015\n",
    "def get_top_assisters_from_year_1(player_data, column):\n",
    "    # get the first year of data\n",
    "    first_year_data = player_data[player_data.index.get_level_values(0) == 2015]\n",
    "\n",
    "    # find the top assister per team\n",
    "    top_assisters_per_team = first_year_data.groupby(\"Team\")[column].aggregate(\"max\")\n",
    "    top_assisters = []\n",
    "    for team, assists in top_assisters_per_team.items():\n",
    "        team_players = first_year_data[\"Team\"] == team\n",
    "        secondary_assisters = first_year_data[column] == assists\n",
    "        player = first_year_data[team_players & secondary_assisters].index.get_level_values(1)[0]\n",
    "        top_assisters.append(player)\n",
    "    return top_assisters"
   ]
  },
  {
   "cell_type": "code",
   "execution_count": 4,
   "metadata": {},
   "outputs": [],
   "source": [
    "def get_player_column_values(player_name, column):\n",
    "    players_year_data = player_data[player_data.index.get_level_values(1) == player_name]\n",
    "    return players_year_data[column]"
   ]
  },
  {
   "cell_type": "code",
   "execution_count": 5,
   "metadata": {},
   "outputs": [],
   "source": [
    "def get_line_of_best_fit(player_yearly_data):\n",
    "    years = player_yearly_data.index.get_level_values(0)\n",
    "    second_assists = player_yearly_data.values\n",
    "    x = sm.add_constant(years)\n",
    "    result = sm.OLS(second_assists, x).fit()\n",
    "    intercept, slope = result.params\n",
    "    return intercept, slope"
   ]
  },
  {
   "cell_type": "code",
   "execution_count": 6,
   "metadata": {},
   "outputs": [],
   "source": [
    "# get the top assister from each team\n",
    "top_assisters = get_top_assisters_from_year_1(player_data, \"Second Assists\")\n",
    "\n",
    "player_time_series = []\n",
    "for assister in top_assisters:\n",
    "    # for each assisters, get their secondary assists in every year\n",
    "    player_yearly_data = get_player_column_values(assister, \"Second Assists\")\n",
    "    # plot their line of best fit, and get the values we need\n",
    "    intercept, slope = get_line_of_best_fit(player_yearly_data)\n",
    "    player_time_series.append((intercept, slope, assister))"
   ]
  },
  {
   "cell_type": "code",
   "execution_count": 7,
   "metadata": {},
   "outputs": [
    {
     "data": {
      "image/png": "[encoded data removed]",
      "text/plain": [
       "<Figure size 432x288 with 1 Axes>"
      ]
     },
     "metadata": {
      "needs_background": "light"
     },
     "output_type": "display_data"
    }
   ],
   "source": [
    "years = player_data.index.get_level_values(0)\n",
    "# for each of the lines of best fit, let's plot it on our chart\n",
    "for intercept, slope, assister in player_time_series:\n",
    "    plt.plot(years, intercept + slope*years, label=f\"{assister}\")\n",
    "plt.ylim(bottom=0)\n",
    "plt.xticks([2015,2016,2017,2018,2019])\n",
    "plt.ylabel(\"Secondary Assists\")\n",
    "plt.xlabel(\"Year\")\n",
    "plt.title(\"Lines of Best Fit for Secondary Assists\")\n",
    "plt.show()"
   ]
  },
  {
   "cell_type": "markdown",
   "metadata": {},
   "source": [
    "#### Conclusion\n",
    "From the above chart we can determine...exactly nothing. Some players got worse over the years, some players got better over the years. Some players look like they retired after a year or two (the lines dropping off the graph). I think we're approaching this from the wrong angle."
   ]
  },
  {
   "cell_type": "markdown",
   "metadata": {},
   "source": [
    "### Variance in Goal Scoring Rate\n",
    "#### Conversion to Rate Stats\n",
    "There are a few problems with the above study. For one, we're using the raw secondary assists. If a player was injured in one year, their raw totals would see a dip, totally unrelated to their play. As well, if a player falls in to a coach's \"bad book\" for a while, they may be penalized in ice time, or power play time, which would both lead to drops in raw totals. The first thing we're going to do is to change our raw secondary assists into a rate state based on the amount they played.\n",
    "\n",
    "#### Looking at Standard Deviation\n",
    "Once we have switched to rate stats, I think what we want to look at is the variance in those numbers. Assuming that a players skill allows them to get secondary assists, then regardless of everything else (ice time, powerplay, team mates) their rate of scoring secondary assists should be relatively stable. If we graphed the line, it should be fairly flat."
   ]
  },
  {
   "cell_type": "code",
   "execution_count": 8,
   "metadata": {},
   "outputs": [],
   "source": [
    "def convert_second_assists_to_rate(row):\n",
    "    toi, second_assists = row\n",
    "    return (second_assists/toi)*60"
   ]
  },
  {
   "cell_type": "code",
   "execution_count": 9,
   "metadata": {},
   "outputs": [],
   "source": [
    "def get_standard_deviations_for_assisters(assisters, skip_nan=True):\n",
    "    standard_deviations = []\n",
    "    for assister in assisters:\n",
    "        # for each assisters, get their secondary assists p60 in every year\n",
    "        player_sap60_over_time = get_player_column_values(assister, \"SA P60\")\n",
    "        std_dev = player_sap60_over_time.std()\n",
    "        # guard because some players don't have enough data\n",
    "        if not skip_nan or not np.isnan(std_dev):\n",
    "            standard_deviations.append(std_dev)\n",
    "    return standard_deviations"
   ]
  },
  {
   "cell_type": "code",
   "execution_count": 10,
   "metadata": {},
   "outputs": [],
   "source": [
    "# Add a new column to the data, representing Secondary Assists per 60 minutes of game\n",
    "player_data[\"SA P60\"] = player_data[[\"TOI\", \"Second Assists\"]].apply(\n",
    "    convert_second_assists_to_rate,\n",
    "    axis=1,\n",
    ")"
   ]
  },
  {
   "cell_type": "code",
   "execution_count": 11,
   "metadata": {},
   "outputs": [
    {
     "name": "stdout",
     "output_type": "stream",
     "text": [
      "For Assister:\tSami Vatanen, their standard deviation was:\t0.1991792675367927\n",
      "For Assister:\tKeith Yandle, their standard deviation was:\t0.15541924786797223\n",
      "For Assister:\tRyan Spooner, their standard deviation was:\t0.3633051406481594\n",
      "For Assister:\tZach Bogosian, their standard deviation was:\t0.14406253406958636\n",
      "For Assister:\tJohn-Michael Liles, their standard deviation was:\t0.3193531383408899\n",
      "For Assister:\tBrandon Dubinsky, their standard deviation was:\t0.26253880596652734\n",
      "For Assister:\tDennis Wideman, their standard deviation was:\t0.2167267466937362\n",
      "For Assister:\tMarian Hossa, their standard deviation was:\t0.20567665532902696\n",
      "For Assister:\tTyson Barrie, their standard deviation was:\t0.16850557457858958\n",
      "For Assister:\tJason Spezza, their standard deviation was:\t0.3688160080624835\n",
      "For Assister:\tJohan Franzen, their standard deviation was:\tnan\n",
      "For Assister:\tAnton Lander, their standard deviation was:\t0.38407120515547527\n",
      "For Assister:\tJaromir Jagr, their standard deviation was:\t0.2710450597501753\n",
      "For Assister:\tJamie McBain, their standard deviation was:\t0.3278805613537179\n",
      "For Assister:\tMikko Koivu, their standard deviation was:\t0.2258551263113936\n",
      "For Assister:\tDavid Desharnais, their standard deviation was:\t0.18591248902873353\n",
      "For Assister:\tScott Gomez, their standard deviation was:\t0.2772457303128949\n",
      "For Assister:\tMatt Cullen, their standard deviation was:\t0.25194778430344517\n",
      "For Assister:\tKyle Okposo, their standard deviation was:\t0.17371547226326492\n",
      "For Assister:\tDerick Brassard, their standard deviation was:\t0.35856861227397946\n",
      "For Assister:\tBobby Ryan, their standard deviation was:\t0.1999790060128783\n",
      "For Assister:\tJakub Voracek, their standard deviation was:\t0.20258388937421984\n",
      "For Assister:\tSidney Crosby, their standard deviation was:\t0.17143302970645166\n",
      "For Assister:\tJoe Thornton, their standard deviation was:\t0.20186191271423184\n",
      "For Assister:\tKevin Shattenkirk, their standard deviation was:\t0.2680174756996443\n",
      "For Assister:\tOndrej Palat, their standard deviation was:\t0.2249933584985792\n",
      "For Assister:\tCody Franson, their standard deviation was:\t0.22143779992622503\n",
      "For Assister:\tHenrik Sedin, their standard deviation was:\t0.42033556368051395\n",
      "For Assister:\tJiri Tlusty, their standard deviation was:\t0.7155612060149388\n",
      "For Assister:\tNicklas Backstrom, their standard deviation was:\t0.1718806005204794\n"
     ]
    }
   ],
   "source": [
    "# Get the top assisters again, using our new player data, and let's look at the p60 leaders\n",
    "# instead of raw total leaders\n",
    "top_assisters = get_top_assisters_from_year_1(player_data, \"SA P60\")\n",
    "standard_deviations = get_standard_deviations_for_assisters(top_assisters, skip_nan=False)\n",
    "zipped_list = zip(top_assisters, standard_deviations)\n",
    "for player, std_dev in zipped_list:\n",
    "    print(f\"For Assister:\\t{player}, their standard deviation was:\\t{std_dev}\")"
   ]
  },
  {
   "cell_type": "markdown",
   "metadata": {},
   "source": [
    "All of these standard deviations seem quite low. Looking at one player, Derrick Brassard, his year over year SA P60 numbers were:\n",
    "\n",
    "| Year | Secondary Assists Per 60 Minutes |\n",
    "| --- | --- |\n",
    "| 2015 | 1.077896 |\n",
    "| 2016 | 0.545143 |\n",
    "| 2017 | 0.554102 |\n",
    "| 2018 | 0.281973 |\n",
    "| 2019 | 0.401976 |\n",
    "\n",
    "A standard deviation of  of 0.3585 seems like a big number given the values. Assuming he plays 15 minutes per game, over 82 games, that's 1230 minutes, which equates to a difference of about 7.5 secondary assists per year, which is a good chunk of points. It's the difference between Derrick Brassard scoring 50 points one year, and 35 points the next year. That's a huge swing, it's the difference between a player at the bottom your roster, and one closer to the top.\n",
    "\n",
    "For the really weird numbers above:\n",
    "- Johan Franzen retired after the first year of data, meaning the variance function failed on him\n",
    "- Jiri Tlusty was traded mid season in the first year, and then only played a handful of games in his second year before retiring. The small smaples in that first year caused very large numbers, then he retired without points in the second year, causing skewed data."
   ]
  },
  {
   "cell_type": "code",
   "execution_count": 12,
   "metadata": {},
   "outputs": [
    {
     "name": "stdout",
     "output_type": "stream",
     "text": [
      "Average Standard Deviation of these top players: nan\n"
     ]
    }
   ],
   "source": [
    "# Find the average standard deviation across all these players\n",
    "std_dev_avg = np.average(standard_deviations)\n",
    "print(f\"Average Standard Deviation of these top players: {std_dev_avg}\")"
   ]
  },
  {
   "cell_type": "code",
   "execution_count": 13,
   "metadata": {},
   "outputs": [
    {
     "name": "stdout",
     "output_type": "stream",
     "text": [
      "Average Standard Deviation of all players: 0.15992548145871077\n"
     ]
    }
   ],
   "source": [
    "# Let's see what happens if we expand our study to our entire field of players:\n",
    "all_assisters = pd.unique(player_data.index.get_level_values(1))\n",
    "standard_deviations = get_standard_deviations_for_assisters(all_assisters)\n",
    "std_dev_avg = np.average(standard_deviations)\n",
    "print(f\"Average Standard Deviation of all players: {std_dev_avg}\")"
   ]
  },
  {
   "cell_type": "markdown",
   "metadata": {},
   "source": [
    "Interestingly, the standard deviation is lower for all players. I had assumed it would be higher (less good players would see larger swings), but there's a lot of data, so it must average out.\n",
    "\n",
    "Let's see if there's a difference between forwards and defencemen:"
   ]
  },
  {
   "cell_type": "code",
   "execution_count": 14,
   "metadata": {},
   "outputs": [
    {
     "name": "stdout",
     "output_type": "stream",
     "text": [
      "Average Standard Deviation of all forwards: 0.16448703020237224\n"
     ]
    }
   ],
   "source": [
    "forward_assisters = pd.unique(player_data[player_data[\"Position\"] == \"F\"].index.get_level_values(1))\n",
    "standard_deviations = get_standard_deviations_for_assisters(forward_assisters)\n",
    "std_dev_avg = np.average(standard_deviations)\n",
    "print(f\"Average Standard Deviation of all forwards: {std_dev_avg}\")"
   ]
  },
  {
   "cell_type": "code",
   "execution_count": 15,
   "metadata": {},
   "outputs": [
    {
     "name": "stdout",
     "output_type": "stream",
     "text": [
      "Average Standard Deviation of all forwards: 0.1519743228437179\n"
     ]
    }
   ],
   "source": [
    "defence_assisters = pd.unique(player_data[player_data[\"Position\"] == \"D\"].index.get_level_values(1))\n",
    "standard_deviations = get_standard_deviations_for_assisters(defence_assisters)\n",
    "std_dev_avg = np.average(standard_deviations)\n",
    "print(f\"Average Standard Deviation of all forwards: {std_dev_avg}\")"
   ]
  },
  {
   "cell_type": "markdown",
   "metadata": {},
   "source": [
    "There is a bit of a difference between forwards and defencemen, but not a tremendous one. It largely mirrors the overall average. Forwards do see more deviation, but not a tremendous amount.\n",
    "\n",
    "### Conclusion\n",
    "We have some data hinting here that secondary assists are not actually repeatable. The data on someone like Derrick Brassard is really helpful because it shows just how big a swing could be. However, I don't think we've concretely proven this for sure."
   ]
  },
  {
   "cell_type": "code",
   "execution_count": 16,
   "metadata": {
    "scrolled": true
   },
   "outputs": [
    {
     "ename": "NameError",
     "evalue": "name 'henrik' is not defined",
     "output_type": "error",
     "traceback": [
      "\u001b[0;31m---------------------------------------------------------------------------\u001b[0m",
      "\u001b[0;31mNameError\u001b[0m                                 Traceback (most recent call last)",
      "\u001b[0;32m<ipython-input-16-0c484fd804dc>\u001b[0m in \u001b[0;36m<module>\u001b[0;34m\u001b[0m\n\u001b[0;32m----> 1\u001b[0;31m \u001b[0mplt\u001b[0m\u001b[0;34m.\u001b[0m\u001b[0mscatter\u001b[0m\u001b[0;34m(\u001b[0m\u001b[0mhenrik\u001b[0m\u001b[0;34m.\u001b[0m\u001b[0mindex\u001b[0m\u001b[0;34m.\u001b[0m\u001b[0mvalues\u001b[0m\u001b[0;34m,\u001b[0m \u001b[0mhenrik\u001b[0m\u001b[0;34m.\u001b[0m\u001b[0mvalues\u001b[0m\u001b[0;34m,\u001b[0m \u001b[0mlabel\u001b[0m\u001b[0;34m=\u001b[0m\u001b[0;34m\"Henrik Sedin\"\u001b[0m\u001b[0;34m)\u001b[0m\u001b[0;34m\u001b[0m\u001b[0;34m\u001b[0m\u001b[0m\n\u001b[0m\u001b[1;32m      2\u001b[0m \u001b[0mplt\u001b[0m\u001b[0;34m.\u001b[0m\u001b[0mplot\u001b[0m\u001b[0;34m(\u001b[0m\u001b[0myears\u001b[0m\u001b[0;34m,\u001b[0m \u001b[0mintercept\u001b[0m \u001b[0;34m+\u001b[0m \u001b[0mslope\u001b[0m\u001b[0;34m*\u001b[0m\u001b[0myears\u001b[0m\u001b[0;34m,\u001b[0m \u001b[0mlabel\u001b[0m\u001b[0;34m=\u001b[0m\u001b[0;34mf\"R2={round(rsquared, 4)}\"\u001b[0m\u001b[0;34m)\u001b[0m\u001b[0;34m\u001b[0m\u001b[0;34m\u001b[0m\u001b[0m\n\u001b[1;32m      3\u001b[0m \u001b[0mplt\u001b[0m\u001b[0;34m.\u001b[0m\u001b[0mtitle\u001b[0m\u001b[0;34m(\u001b[0m\u001b[0;34m\"Secondary Assists by Year\"\u001b[0m\u001b[0;34m)\u001b[0m\u001b[0;34m\u001b[0m\u001b[0;34m\u001b[0m\u001b[0m\n\u001b[1;32m      4\u001b[0m \u001b[0mplt\u001b[0m\u001b[0;34m.\u001b[0m\u001b[0mylabel\u001b[0m\u001b[0;34m(\u001b[0m\u001b[0;34m\"Secondary Assists\"\u001b[0m\u001b[0;34m)\u001b[0m\u001b[0;34m\u001b[0m\u001b[0;34m\u001b[0m\u001b[0m\n\u001b[1;32m      5\u001b[0m \u001b[0mplt\u001b[0m\u001b[0;34m.\u001b[0m\u001b[0mxlabel\u001b[0m\u001b[0;34m(\u001b[0m\u001b[0;34m\"Year\"\u001b[0m\u001b[0;34m)\u001b[0m\u001b[0;34m\u001b[0m\u001b[0;34m\u001b[0m\u001b[0m\n",
      "\u001b[0;31mNameError\u001b[0m: name 'henrik' is not defined"
     ]
    }
   ],
   "source": [
    "plt.scatter(henrik.index.values, henrik.values, label=\"Henrik Sedin\")\n",
    "plt.plot(years, intercept + slope*years, label=f\"R2={round(rsquared, 4)}\")\n",
    "plt.title(\"Secondary Assists by Year\")\n",
    "plt.ylabel(\"Secondary Assists\")\n",
    "plt.xlabel(\"Year\")\n",
    "plt.legend(loc='best')\n",
    "plt.show()"
   ]
  },
  {
   "cell_type": "code",
   "execution_count": null,
   "metadata": {},
   "outputs": [],
   "source": []
  }
 ],
 "metadata": {
  "kernelspec": {
   "display_name": "Python 3",
   "language": "python",
   "name": "python3"
  },
  "language_info": {
   "codemirror_mode": {
    "name": "ipython",
    "version": 3
   },
   "file_extension": ".py",
   "mimetype": "text/x-python",
   "name": "python",
   "nbconvert_exporter": "python",
   "pygments_lexer": "ipython3",
   "version": "3.7.3"
  }
 },
 "nbformat": 4,
 "nbformat_minor": 2
}
